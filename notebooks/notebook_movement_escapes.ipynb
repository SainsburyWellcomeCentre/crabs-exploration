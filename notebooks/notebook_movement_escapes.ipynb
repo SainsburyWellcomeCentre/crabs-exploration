{
 "cells": [
  {
   "cell_type": "markdown",
   "metadata": {},
   "source": [
    "## Inspect crab escape trajectories using `movement`.\n",
    "\n",
    "### Requirements\n",
    "1. Create and activate a conda environment with `movement` by following the \n",
    "   instructions at https://movement.neuroinformatics.dev/getting_started/installation.html\n",
    "\n",
    "2. Install some additional dependencies on the conda environment by running:\n",
    "      ```\n",
    "      pip install ipykernel ipympl\n",
    "      ```\n",
    "\n",
    "3. Mount the zoo directory in ceph following the guide at\n",
    "   https://howto.neuroinformatics.dev/programming/Mount-ceph-ubuntu-temp.html\n"
   ]
  },
  {
   "cell_type": "markdown",
   "metadata": {},
   "source": [
    "### Import required packages"
   ]
  },
  {
   "cell_type": "code",
   "execution_count": null,
   "id": "f7abaed3-a297-40fe-8d2d-a52dea9f6254",
   "metadata": {},
   "outputs": [],
   "source": [
    "from pathlib import Path\n",
    "\n",
    "import matplotlib.pyplot as plt\n",
    "import numpy as np\n",
    "from movement.io import load_bboxes"
   ]
  },
  {
   "cell_type": "markdown",
   "metadata": {},
   "source": [
    "Uncomment and run the following line to enable interactive plots"
   ]
  },
  {
   "cell_type": "code",
   "execution_count": null,
   "id": "93cfc22f-f64d-4b7f-8f76-fa15e37f5931",
   "metadata": {},
   "outputs": [],
   "source": [
    "# %matplotlib widget"
   ]
  },
  {
   "cell_type": "markdown",
   "metadata": {},
   "source": [
    "### Set input and output data"
   ]
  },
  {
   "cell_type": "code",
   "execution_count": null,
   "id": "79c9824a-2960-40f8-8937-ca3255942e59",
   "metadata": {},
   "outputs": [],
   "source": [
    "# Ensure the input data points to the directory containing the \n",
    "# csv files in ceph\n",
    "input_data = Path(\n",
    "    \"/ceph/zoo/users/sminano/escape_clips_tracking_output_slurm_5699097\"\n",
    "    \n",
    ")"
   ]
  },
  {
   "cell_type": "markdown",
   "metadata": {},
   "source": [
    "Set output directory for figures"
   ]
  },
  {
   "cell_type": "code",
   "execution_count": null,
   "id": "2944aabe-b53e-4faf-903a-4c9fb676da38",
   "metadata": {},
   "outputs": [],
   "source": [
    "output_figures_dir = \"path/to/directory/where/figures/will/be/saved\"  \n",
    "# replace with actual path\n",
    "\n",
    "# Create output directory if it doesnt exist\n",
    "if not output_figures_dir.exists():\n",
    "    output_figures_dir.mkdir(parents=True)"
   ]
  },
  {
   "cell_type": "markdown",
   "metadata": {},
   "source": [
    "List all .csv files in the input directory"
   ]
  },
  {
   "cell_type": "code",
   "execution_count": 5,
   "id": "d147111e-69cd-47c0-be94-aa7b1e64d0ed",
   "metadata": {},
   "outputs": [
    {
     "name": "stdout",
     "output_type": "stream",
     "text": [
      "234\n"
     ]
    }
   ],
   "source": [
    "list_csv_files = [\n",
    "    x\n",
    "    for x in input_data.iterdir()\n",
    "    if x.is_file() and x.name.endswith(\"_tracks.csv\")\n",
    "]\n",
    "list_csv_files.sort()\n",
    "print(len(list_csv_files))"
   ]
  },
  {
   "cell_type": "markdown",
   "metadata": {},
   "source": [
    "### Read first file as movement dataset"
   ]
  },
  {
   "cell_type": "code",
   "execution_count": 6,
   "id": "c7fdb4b3-e130-4f4d-b499-b3836f1452ed",
   "metadata": {},
   "outputs": [],
   "source": [
    "csv_file = list_csv_files[0]\n",
    "\n",
    "ds = load_bboxes.from_via_tracks_file(\n",
    "    csv_file, fps=None, use_frame_numbers_from_file=False\n",
    ")"
   ]
  },
  {
   "cell_type": "markdown",
   "metadata": {},
   "source": [
    "Print summary metrics of dataset"
   ]
  },
  {
   "cell_type": "code",
   "execution_count": 7,
   "id": "697a1fcb-1f14-4f95-83ec-40696da9a710",
   "metadata": {},
   "outputs": [
    {
     "name": "stdout",
     "output_type": "stream",
     "text": [
      "04.09.2023-01-Right-Spontaneous1_tracks.csv\n",
      "Number of frames: 187\n",
      "Number of individuals: 105\n",
      "<xarray.Dataset> Size: 789kB\n",
      "Dimensions:      (time: 187, individuals: 105, space: 2)\n",
      "Coordinates:\n",
      "  * time         (time) int64 1kB 0 1 2 3 4 5 6 ... 180 181 182 183 184 185 186\n",
      "  * individuals  (individuals) <U6 3kB 'id_1' 'id_2' ... 'id_105' 'id_107'\n",
      "  * space        (space) <U1 8B 'x' 'y'\n",
      "Data variables:\n",
      "    position     (time, individuals, space) float64 314kB 3.285e+03 ... 119.5\n",
      "    shape        (time, individuals, space) float64 314kB 46.0 58.0 ... 33.0\n",
      "    confidence   (time, individuals) float64 157kB 0.6846 0.7115 ... 0.9999 1.0\n",
      "Attributes:\n",
      "    fps:              None\n",
      "    time_unit:        frames\n",
      "    source_software:  VIA-tracks\n",
      "    source_file:      /home/sminano/swc/project_crabs/escape_clips_tracking_o...\n",
      "    ds_type:          bboxes\n",
      "--------------------\n"
     ]
    }
   ],
   "source": [
    "print(Path(ds.source_file).name)\n",
    "print(f\"Number of frames: {ds.sizes['time']}\")\n",
    "print(f\"Number of individuals: {ds.sizes['individuals']}\")\n",
    "print(ds)\n",
    "print(\"--------------------\")"
   ]
  },
  {
   "cell_type": "markdown",
   "metadata": {},
   "source": [
    "### Prepare histogram metrics\n",
    "\n",
    "For each ID, compute the number of frames for which the centroid position has non-nan x,y coordinates"
   ]
  },
  {
   "cell_type": "code",
   "execution_count": 8,
   "id": "aaf4dacf-e9a4-427b-b69f-7364b5118e50",
   "metadata": {},
   "outputs": [],
   "source": [
    "non_nan_frames_per_ID = {}\n",
    "for ind, _id_str in enumerate(ds.individuals):\n",
    "    non_nan_frames_per_ID[ind] = (\n",
    "        len(ds.time) - ds.position[:, ind, :].isnull().any(axis=1).sum().item()\n",
    "    )"
   ]
  },
  {
   "cell_type": "markdown",
   "metadata": {},
   "source": [
    "### Prepare plots"
   ]
  },
  {
   "cell_type": "code",
   "execution_count": 9,
   "id": "20f26c00-c889-4f8c-adc0-c71775ea73e3",
   "metadata": {},
   "outputs": [],
   "source": [
    "# select whether to plot ID at first frame\n",
    "flag_plot_id = False\n",
    "\n",
    "# Define colors - ideally more than max n individuals\n",
    "# so that we don't have repetitions\n",
    "list_colors = (\n",
    "    plt.get_cmap(\"Pastel1\").colors  # 9 colors\n",
    "    + plt.get_cmap(\"Pastel2\").colors  # 8 colors\n",
    "    + plt.get_cmap(\"Paired\").colors  # 12 colors\n",
    "    + plt.get_cmap(\"Accent\").colors  # 8 colors\n",
    "    + plt.get_cmap(\"Dark2\").colors  # 8 colors\n",
    "    + plt.get_cmap(\"Set1\").colors  # 9 colors\n",
    "    + plt.get_cmap(\"Set3\").colors  # 12 colors\n",
    "    + plt.get_cmap(\"tab20b\").colors  # 10 colors\n",
    "    + plt.get_cmap(\"tab20c\").colors  # 20 colors\n",
    ")  # 96 colors"
   ]
  },
  {
   "cell_type": "markdown",
   "metadata": {},
   "source": [
    "### Plot trajectories and colour by individual"
   ]
  },
  {
   "cell_type": "code",
   "execution_count": 10,
   "id": "c07deb60-cd6e-47b3-a2f9-6c01c52e2b4f",
   "metadata": {},
   "outputs": [
    {
     "data": {
      "image/png": "[encoded data removed]",
      "text/plain": [
       "<Figure size 640x480 with 1 Axes>"
      ]
     },
     "metadata": {},
     "output_type": "display_data"
    }
   ],
   "source": [
    "fig, ax = plt.subplots(1, 1)\n",
    "for ind_idx in range(ds.sizes[\"individuals\"]):\n",
    "    # plot trajectories\n",
    "    ax.scatter(\n",
    "        x=ds.position[:, ind_idx, 0],  # nframes, nindividuals, x\n",
    "        y=ds.position[:, ind_idx, 1],\n",
    "        s=1,\n",
    "        color=list_colors[ind_idx % len(list_colors)],\n",
    "    )\n",
    "    # add ID at first frame with non-nan x-coord\n",
    "    if flag_plot_id:\n",
    "        start_frame = ds.time[~ds.position.isnull()[:, ind_idx, 0]][0].item()\n",
    "        ax.text(\n",
    "            x=ds.position[start_frame, ind_idx, 0],\n",
    "            y=ds.position[start_frame, ind_idx, 1],\n",
    "            s=ds.individuals[ind_idx].item().split(\"_\")[1],\n",
    "            fontsize=8,\n",
    "            color=list_colors[ind_idx % len(list_colors)],\n",
    "        )\n",
    "\n",
    "ax.set_aspect(\"equal\")\n",
    "ax.set_xlim(-150, 4200)  # frame size: 4096x2160\n",
    "ax.set_ylim(-150, 2250)  # frame size: 4096x2160\n",
    "ax.set_xlabel(\"x (pixels)\")\n",
    "ax.set_ylabel(\"y (pixels)\")\n",
    "ax.set_title(Path(ds.source_file).stem)\n",
    "ax.invert_yaxis()\n",
    "\n",
    "# Save plot as png\n",
    "plt.savefig(\n",
    "    output_figures_dir / f\"{Path(ds.source_file).stem}_tracks.png\",\n",
    "    dpi=300,\n",
    "    bbox_inches=\"tight\",\n",
    ")"
   ]
  },
  {
   "cell_type": "markdown",
   "metadata": {},
   "source": [
    "### Plot histogram of trajectories' lengths"
   ]
  },
  {
   "cell_type": "code",
   "execution_count": 11,
   "id": "1f54d085-e579-4a5b-abea-d2cf00d8930b",
   "metadata": {},
   "outputs": [
    {
     "data": {
      "image/png": "[encoded data removed]",
      "text/plain": [
       "<Figure size 640x480 with 1 Axes>"
      ]
     },
     "metadata": {},
     "output_type": "display_data"
    }
   ],
   "source": [
    "fig, ax = plt.subplots(1, 1)\n",
    "ax.hist(\n",
    "    non_nan_frames_per_ID.values(),\n",
    "    bins=np.arange(0, len(ds.time) + 50, 50),\n",
    "    alpha=0.5,\n",
    "    label=\"Prediction\",\n",
    ")\n",
    "ax.set_xlabel(\"n frames with same ID\")\n",
    "ax.set_ylabel(\"n trajectories\")\n",
    "ax.hlines(\n",
    "    y=len(ds.individuals),\n",
    "    xmin=0,\n",
    "    xmax=len(ds.time),\n",
    "    color=\"red\",\n",
    "    label=\"n individuals\",\n",
    ")\n",
    "ax.legend()\n",
    "ax.set_title(Path(ds.source_file).stem)\n",
    "\n",
    "# Save plot as png\n",
    "plt.savefig(\n",
    "    output_figures_dir / f\"{Path(ds.source_file).stem}_histogram.png\",\n",
    "    dpi=300,\n",
    "    bbox_inches=\"tight\",\n",
    ")"
   ]
  },
  {
   "cell_type": "code",
   "execution_count": null,
   "metadata": {},
   "outputs": [],
   "source": []
  }
 ],
 "metadata": {
  "kernelspec": {
   "display_name": "movement-env",
   "language": "python",
   "name": "python3"
  },
  "language_info": {
   "codemirror_mode": {
    "name": "ipython",
    "version": 3
   },
   "file_extension": ".py",
   "mimetype": "text/x-python",
   "name": "python",
   "nbconvert_exporter": "python",
   "pygments_lexer": "ipython3",
   "version": "3.12.7"
  }
 },
 "nbformat": 4,
 "nbformat_minor": 2
}
